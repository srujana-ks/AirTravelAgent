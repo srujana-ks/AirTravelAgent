{
 "cells": [
  {
   "cell_type": "markdown",
   "id": "2f53b836-328f-4811-8d0e-483bb6b27fd5",
   "metadata": {},
   "source": [
    "# Deploying an Air Travel Agent on AIPC"
   ]
  },
  {
   "cell_type": "markdown",
   "id": "44d4552d-1257-4158-9b6e-a9cf4222ee4a",
   "metadata": {},
   "source": [
    "## Introduction\n",
    "\n",
    "This notebook showcases on deploying local LLM agents using the Langchain tools on Intel® Core™ Ultra Processors. The aim is to deploy an Air Travel Agent on the iGPU (integrated GPU) of the AIPC. For this, Llamacpp GPU backend is setup and the agent created using the local LLM model. The agent makes use of langchain toolkits and tools for travel related queries. \n"
   ]
  },
  {
   "cell_type": "markdown",
   "id": "d4e27b5f-6e2d-41ca-b983-28a43b8feaae",
   "metadata": {},
   "source": [
    "### Table of Contents\n",
    "1. Creating the Air Travel Agent\n",
    "2. Deploying with Gradio"
   ]
  },
  {
   "cell_type": "markdown",
   "id": "1be3c1d8-c14c-4ae5-ba29-7567b9e4d568",
   "metadata": {
    "jp-MarkdownHeadingCollapsed": true
   },
   "source": [
    "## Creating the Air Travel Agent"
   ]
  },
  {
   "cell_type": "code",
   "execution_count": 1,
   "id": "36e32a6d-eab5-461d-ad9d-77c6b7fcad03",
   "metadata": {},
   "outputs": [],
   "source": [
    "import os \n",
    "from langchain.agents import tool, AgentExecutor, create_react_agent\n",
    "from langchain.agents.output_parsers import ReActJsonSingleInputOutputParser\n",
    "from langchain.tools.render import render_text_description_and_args"
   ]
  },
  {
   "cell_type": "code",
   "execution_count": 2,
   "id": "7c6d027a-1d46-4a2f-966f-ac745e50f84e",
   "metadata": {},
   "outputs": [],
   "source": [
    "from dotenv import load_dotenv, find_dotenv\n",
    "_ = load_dotenv(find_dotenv()) # read local .env file"
   ]
  },
  {
   "cell_type": "code",
   "execution_count": 3,
   "id": "dc24a8c9-51f5-46a6-b0ed-752acb22c988",
   "metadata": {},
   "outputs": [
    {
     "data": {
      "application/vnd.jupyter.widget-view+json": {
       "model_id": "be4697c9e52b40d09739ceed0c5fc10b",
       "version_major": 2,
       "version_minor": 0
      },
      "text/plain": [
       "Dropdown(description='Model:', index=1, options=('llama-2-7b.Q4_K_S.gguf', 'Meta-Llama-3.1-8B-Instruct-Q4_K_S.…"
      ]
     },
     "metadata": {},
     "output_type": "display_data"
    }
   ],
   "source": [
    "#Selecting the local LLM model\n",
    "import ipywidgets as widgets\n",
    "\n",
    "selected_model= widgets.Dropdown(\n",
    "    options=['llama-2-7b.Q4_K_S.gguf',\n",
    "            'Meta-Llama-3.1-8B-Instruct-Q4_K_S.gguf'],\n",
    "    value='llama-2-7b.Q4_K_S.gguf',\n",
    "    description='Model:',\n",
    "    disabled=False\n",
    ")\n",
    "\n",
    "selected_model"
   ]
  },
  {
   "cell_type": "code",
   "execution_count": 4,
   "id": "98b28742-6799-481b-a3d4-7963164ddc5b",
   "metadata": {},
   "outputs": [],
   "source": [
    "from langchain_community.llms import LlamaCpp\n",
    "from langchain_core.callbacks import CallbackManager, StreamingStdOutCallbackHandler\n",
    "\n",
    "callback_manager = CallbackManager([StreamingStdOutCallbackHandler()])\n",
    "\n",
    "\n",
    "llm = LlamaCpp(\n",
    "    model_path=\"models/\"+ selected_model.value,\n",
    "    n_gpu_layers=-1, # Uncomment to use GPU acceleration\n",
    "    seed=512, # Uncomment to set a specific seed\n",
    "    n_ctx=4096, # Uncomment to increase the context window\n",
    "    f16_kv=True, # MUST set to True, otherwise you will run into problem after a couple of calls\n",
    "    callback_manager=callback_manager,\n",
    "    verbose=False, \n",
    "    temperature=0,\n",
    " \n",
    ")\n",
    "llm.client.verbose = False #for silencing llm.invoke()"
   ]
  },
  {
   "cell_type": "code",
   "execution_count": 5,
   "id": "51a491f9-5d47-400c-9873-52fbfa9281fe",
   "metadata": {},
   "outputs": [],
   "source": [
    "from langchain.agents import load_tools\n",
    "\n",
    "tools= load_tools([\"serpapi\"])"
   ]
  },
  {
   "cell_type": "code",
   "execution_count": 6,
   "id": "80bc7a00-7448-44ce-a3fd-79b14ee9f8b5",
   "metadata": {},
   "outputs": [],
   "source": [
    "# Prompt template for the agent\n",
    "from langchain_core.prompts import PromptTemplate\n",
    "\n",
    "#Answer the following questions as best you can.\n",
    "\n",
    "template = '''\n",
    "1. You are an AI assistant which is tasked to give expert advices to questions on travel and tourism. \n",
    "2. The context is that user is expecting you to answer questions on travel, flights and tourism recommendations.\n",
    "3. You will always rely on your knowledge base in the first place\n",
    "4. You can also take the help of following tools\n",
    "{tools} \n",
    "5. For Flight search queries use the search tool only\n",
    "6. If the above tools does not help, try to use your general knowledge for one more time\n",
    "7. If you can't find relevant information, answer that you don't know and    \n",
    "\n",
    "\n",
    "Use the following format \n",
    "\n",
    "Question: the input question you must answer\n",
    "Thought: you should always think about what to do\n",
    "Action: [{tool_names}] are available. \n",
    "Action Input: the input to the action\n",
    "Observation: the result of the action\n",
    "IMPORTANT: ... (this Thought/Action/Action Input/Observation can repeat N times)\n",
    "Thought: I now know the final answer. Stop Thinking.\n",
    "Final Answer: the final answer to the original input question in bullet points\n",
    "\n",
    "Begin!\n",
    "\n",
    "Question: {input}\n",
    "Thought:{agent_scratchpad}'''\n",
    "\n",
    "prompt = PromptTemplate.from_template(template)"
   ]
  },
  {
   "cell_type": "code",
   "execution_count": 7,
   "id": "4d665fc9-0cf3-4212-97dd-445721df78ad",
   "metadata": {},
   "outputs": [],
   "source": [
    "from langchain.agents import create_react_agent\n",
    "from langchain.agents.output_parsers import ReActJsonSingleInputOutputParser\n",
    "agent = create_react_agent(\n",
    "    llm,\n",
    "    tools,\n",
    "    prompt,\n",
    "    tools_renderer=render_text_description_and_args,\n",
    "    output_parser=ReActJsonSingleInputOutputParser(),\n",
    "    \n",
    ")"
   ]
  },
  {
   "cell_type": "code",
   "execution_count": 8,
   "id": "6e1d22bc-8524-4d41-ac31-9deefd87b209",
   "metadata": {},
   "outputs": [],
   "source": [
    "from langchain.agents import AgentExecutor\n",
    "agent_executor = AgentExecutor(\n",
    "    agent=agent,\n",
    "    tools=tools,\n",
    "    verbose=False,\n",
    "    handle_parsing_errors=True,\n",
    "    max_execution_time=120,\n",
    "    #max_iterations=3,\n",
    ")"
   ]
  },
  {
   "cell_type": "code",
   "execution_count": null,
   "id": "7d512de0-6ed3-4205-b779-afea4ed38db8",
   "metadata": {
    "collapsed": true,
    "jupyter": {
     "outputs_hidden": true
    }
   },
   "outputs": [],
   "source": [
    "agent_executor.invoke(\n",
    "    {\n",
    "        \"input\": \"What are the top 3 places to visit in Paris\"\n",
    "    }\n",
    ")"
   ]
  },
  {
   "cell_type": "code",
   "execution_count": null,
   "id": "e1bf12df-24c7-40e9-b65d-3881698562c7",
   "metadata": {
    "collapsed": true,
    "jupyter": {
     "outputs_hidden": true
    }
   },
   "outputs": [],
   "source": [
    "agent_executor.invoke(\n",
    "    {\n",
    "        \"input\": \"What is the distance to eiffel tower from the airport\"\n",
    "    }\n",
    ")"
   ]
  },
  {
   "cell_type": "code",
   "execution_count": null,
   "id": "7d0e622c-d49b-4ee4-b407-3152a0251e5f",
   "metadata": {
    "collapsed": true,
    "jupyter": {
     "outputs_hidden": true,
     "source_hidden": true
    }
   },
   "outputs": [],
   "source": [
    "agent_executor.invoke(\n",
    "    {\n",
    "        \"input\": \"when is the best time of the year to visit Paris\"\n",
    "    }\n",
    ")"
   ]
  },
  {
   "cell_type": "code",
   "execution_count": null,
   "id": "2b8e4d81-521e-458d-978b-97a4b2ffa6e5",
   "metadata": {
    "collapsed": true,
    "jupyter": {
     "outputs_hidden": true
    }
   },
   "outputs": [],
   "source": [
    "agent_executor.invoke(\n",
    "    {\n",
    "        \"input\": \"What is the name of the airport in paris and what is the airport code of it\"\n",
    "    }\n",
    ")\n"
   ]
  },
  {
   "cell_type": "code",
   "execution_count": null,
   "id": "fb3c84b8-dabd-455b-8251-02cec14bcec5",
   "metadata": {
    "collapsed": true,
    "jupyter": {
     "outputs_hidden": true
    }
   },
   "outputs": [],
   "source": [
    "agent_executor.invoke(\n",
    "    {\n",
    "        \"input\": \"What are the flights available from Paris, France to New York, USA in the first week of October 2024.\"\n",
    "    }\n",
    ")"
   ]
  },
  {
   "cell_type": "code",
   "execution_count": null,
   "id": "3b14d173",
   "metadata": {},
   "outputs": [],
   "source": [
    "agent_executor.invoke(\n",
    "    {\n",
    "        \"input\": \"What is the cheapest flight available from Paris, France to New York, USA in the first week of October 2024. Please give the flight details\"\n",
    "    }\n",
    ")"
   ]
  },
  {
   "cell_type": "markdown",
   "id": "d2578acf-9a65-4653-9f5d-265b8c023dcb",
   "metadata": {},
   "source": [
    "## Deploying with Gradio"
   ]
  },
  {
   "cell_type": "code",
   "execution_count": 2,
   "id": "40d61fe1-0c28-4897-8311-1870ecc3d9f3",
   "metadata": {},
   "outputs": [],
   "source": [
    "import warnings\n",
    "warnings.filterwarnings('ignore')\n",
    "import gradio as gr"
   ]
  },
  {
   "cell_type": "code",
   "execution_count": null,
   "id": "b0e47a11",
   "metadata": {},
   "outputs": [],
   "source": [
    "def handle_prompt(user_prompt, history):\n",
    "    final_answer = agent_executor.invoke( {\"input\": user_prompt})\n",
    "    return final_answer['output']\n",
    "\n",
    "\n",
    "examples = [\n",
    "    \"What are the top attractions in Dubai\",\n",
    "    \"When is the best time of the year to visit Dubai\",\n",
    "    \"What are the available flights from New york to Dubai in the first week of December 2024\",\n",
    "    \"How tall is Burj Khalifa\",    \n",
    "]\n",
    "\n",
    "demo = gr.ChatInterface(fn=handle_prompt, examples=examples, title=\"Hi, I'm an Air Travel Agent\")\n",
    "demo.launch()"
   ]
  }
 ],
 "metadata": {
  "kernelspec": {
   "display_name": "Python 3 (ipykernel)",
   "language": "python",
   "name": "python3"
  },
  "language_info": {
   "codemirror_mode": {
    "name": "ipython",
    "version": 3
   },
   "file_extension": ".py",
   "mimetype": "text/x-python",
   "name": "python",
   "nbconvert_exporter": "python",
   "pygments_lexer": "ipython3",
   "version": "3.11.9"
  }
 },
 "nbformat": 4,
 "nbformat_minor": 5
}
